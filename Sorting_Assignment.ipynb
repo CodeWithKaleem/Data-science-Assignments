{
  "nbformat": 4,
  "nbformat_minor": 0,
  "metadata": {
    "colab": {
      "provenance": []
    },
    "kernelspec": {
      "name": "python3",
      "display_name": "Python 3"
    },
    "language_info": {
      "name": "python"
    }
  },
  "cells": [
    {
      "cell_type": "markdown",
      "source": [
        "Problem 1.Given an array of n numbers, give an algorithm which gives the element appearing maximum number of times?"
      ],
      "metadata": {
        "id": "Uc6xKGkHGD87"
      }
    },
    {
      "cell_type": "code",
      "execution_count": null,
      "metadata": {
        "colab": {
          "base_uri": "https://localhost:8080/"
        },
        "id": "4RfMsTeIF-GB",
        "outputId": "efae1a47-a24e-47d6-873d-7c72bda1b140"
      },
      "outputs": [
        {
          "output_type": "execute_result",
          "data": {
            "text/plain": [
              "2"
            ]
          },
          "metadata": {},
          "execution_count": 23
        }
      ],
      "source": [
        "def count_maximum(arr):\n",
        "\n",
        "  # Step 1: Sort the array in ascending order.\n",
        "  # I have used bubble sort to sort the array.\n",
        "  for i in range(len(arr)-1,0,-1):\n",
        "    for j in range(i):\n",
        "      if arr[j]>arr[j+1]:\n",
        "        arr[j],arr[j+1]=arr[j+1],arr[j]\n",
        "\n",
        "  current_count = 1\n",
        "  max_count = 0\n",
        "  max_element = None\n",
        "\n",
        "  for i in range(1, len(arr)):\n",
        "    # Increment the count if the current element is same as the previous element.\n",
        "    if arr[i]==arr[i-1]:\n",
        "      current_count+=1\n",
        "\n",
        "    else: # update the counter\n",
        "      if current_count>max_count:\n",
        "        max_count = current_count\n",
        "        max_element = arr[i-1]\n",
        "      current_count=1 # Reset the counter\n",
        "\n",
        "  # Taking care of the last index\n",
        "  if current_count>max_count:\n",
        "    max_element = arr[-1]\n",
        "\n",
        "  return max_element\n",
        "\n",
        "\n",
        "arr = [1,2,3,2,3,2,1,2,1]\n",
        "count_maximum(arr)\n",
        "\n"
      ]
    },
    {
      "cell_type": "markdown",
      "source": [
        "Problem 2 : We are given a list of n-1 integers and these integers are in the range of 1 to n . There are no duplicates in the list. One of the integers is missing in the list. Give an algorithm to find that element Ex:[1,2,4,6,3,7,8] 5 is the missing num."
      ],
      "metadata": {
        "id": "RMALTQFysNcN"
      }
    },
    {
      "cell_type": "code",
      "source": [
        "def find_missing_integer(arr):\n",
        "  # Step 1 : Include the missing number\n",
        "  n = len(arr)+1\n",
        "  # Step 2 : Calculate the sum of n natural number using the formula = n * (n+1)/2 we have use floor division to avoid decimal.\n",
        "  sum_of_n = n * (n+1)//2\n",
        "  # Step 3 : Calculate the sum of given array.\n",
        "  sum_arr = sum(arr)\n",
        "  # Step 4 : Subtract the calculated sum of natural numbers from sum of given array.\n",
        "  missing_integer = sum_of_n - sum_arr\n",
        "  return missing_integer\n",
        "\n",
        "arr = [1,2,4,6,3,7,8]\n",
        "find_missing_integer(arr)"
      ],
      "metadata": {
        "colab": {
          "base_uri": "https://localhost:8080/"
        },
        "id": "E7_P_cbiszLz",
        "outputId": "ef6c061c-84fb-4138-d5d8-5d48ab6dfeee"
      },
      "execution_count": null,
      "outputs": [
        {
          "output_type": "execute_result",
          "data": {
            "text/plain": [
              "5"
            ]
          },
          "metadata": {},
          "execution_count": 39
        }
      ]
    },
    {
      "cell_type": "markdown",
      "source": [
        "Problem 3 : Given an array of n positive numbers. All numbers occurs even number of times except 1 which\n",
        "occurs odd number of times. Find that number in O(n) time and O(1) space. Ex: [1,2,3,2,3,1,3]. 3 is repeats odd\n",
        "times."
      ],
      "metadata": {
        "id": "s5iUAuGU0DAD"
      }
    },
    {
      "cell_type": "code",
      "source": [
        "def odd_occurence(arr):\n",
        "  # Step 1: we have created a variable result to store the count of elements.\n",
        "  result = 0\n",
        "  for num in arr:\n",
        "    # Here we are using an XOR bitwise operator to get odd occurence.\n",
        "    result^=num\n",
        "  return result\n",
        "\n",
        "arr = [1,2,3,2,3,1,3]\n",
        "odd_occurence(arr)\n"
      ],
      "metadata": {
        "id": "EIUINn0J0GBg",
        "colab": {
          "base_uri": "https://localhost:8080/"
        },
        "outputId": "d5f5f47b-eefb-4209-95ce-d6c68905ad14"
      },
      "execution_count": null,
      "outputs": [
        {
          "output_type": "execute_result",
          "data": {
            "text/plain": [
              "3"
            ]
          },
          "metadata": {},
          "execution_count": 2
        }
      ]
    },
    {
      "cell_type": "markdown",
      "source": [
        "Problem 4 : Given an array of n elements. Find two elements in the array such that their sum is equal to given\n",
        "element K."
      ],
      "metadata": {
        "id": "NYutu2A75dYM"
      }
    },
    {
      "cell_type": "code",
      "source": [
        "def k_sum(arr,k):\n",
        "  #Step 1: Sort the array in ascending order.\n",
        "  arr.sort()\n",
        "  left = 0\n",
        "  right = len(arr)-1\n",
        "  # Step 2: We will traverse the array the entire array\n",
        "  while(left<right):\n",
        "    # Step 3: We calculate sum and compare with k\n",
        "    sum = arr[left]+arr[right]\n",
        "    if sum ==k:\n",
        "      return arr[left],arr[right]\n",
        "    elif sum<k: # if sum is less than k then we will increase left by 1\n",
        "      left+=1\n",
        "    else: # if sum is greater than k then we will decrease right by 1\n",
        "      right-=1\n",
        "  return -1\n",
        "\n",
        "arr = [5,2,1,4]\n",
        "k = 7\n",
        "k_sum(arr,k)\n"
      ],
      "metadata": {
        "colab": {
          "base_uri": "https://localhost:8080/"
        },
        "id": "WHRf1r_u8t2j",
        "outputId": "b5708893-37b8-4c18-ba12-658462060c15"
      },
      "execution_count": null,
      "outputs": [
        {
          "output_type": "execute_result",
          "data": {
            "text/plain": [
              "(2, 5)"
            ]
          },
          "metadata": {},
          "execution_count": 25
        }
      ]
    },
    {
      "cell_type": "markdown",
      "source": [
        "Problem 5 : Given an array of both positive and negative numbers, find two numbers such that their sum is\n",
        "closest to 0. Ex: [ 1 ,60 ,-10, 70, -80,85]. Ans : -80,85."
      ],
      "metadata": {
        "id": "6MZCIGvhAHym"
      }
    },
    {
      "cell_type": "code",
      "source": [
        "def closest_to_zero(arr):\n",
        "  #Step 1: Sort the array in ascending order.\n",
        "  arr.sort()\n",
        "\n",
        "  left = 0\n",
        "  right = len(arr)-1\n",
        "  min_sum = float('inf') # This variable is used to store minimum value.\n",
        "  closest_pair = None\n",
        "\n",
        "  # Step 2: We will traverse the array the entire array\n",
        "  while(left<right):\n",
        "    # Step 3: Calculate the sum and check for minimum value.\n",
        "    current_sum = arr[left]+arr[right]\n",
        "    if abs(current_sum) < abs(min_sum):\n",
        "      min_sum = current_sum\n",
        "      closest_pair = arr[left],arr[right]\n",
        "    if current_sum < 0: # if sum is less than 0 then increase the left pointer by 1\n",
        "      left +=1\n",
        "    else:\n",
        "      right -=1\n",
        "  return closest_pair\n",
        "\n",
        "arr = [ 1 ,60 ,-10, 70, -80,85]\n",
        "closest_to_zero(arr)"
      ],
      "metadata": {
        "colab": {
          "base_uri": "https://localhost:8080/"
        },
        "id": "W0fSG0WcE0Pn",
        "outputId": "ec65a3f4-833c-4fa6-8018-2b0436afa15d"
      },
      "execution_count": null,
      "outputs": [
        {
          "output_type": "execute_result",
          "data": {
            "text/plain": [
              "(-80, 85)"
            ]
          },
          "metadata": {},
          "execution_count": 35
        }
      ]
    },
    {
      "cell_type": "markdown",
      "source": [
        "Problem 6 : Given an array of n elements . Find three elements such that their sum is equal to the given\n",
        "number."
      ],
      "metadata": {
        "id": "UmZBTFfDIHia"
      }
    },
    {
      "cell_type": "code",
      "source": [
        "# Approach 1: In this we are comparing all the combinations\n",
        "def Three_sum(arr,target):\n",
        "  for i in range(len(arr)):\n",
        "    for j in range(i+1,len(arr)):\n",
        "      for k in range(j+1,len(arr)):\n",
        "        current_sum = arr[i]+arr[j]+arr[k]\n",
        "        if current_sum == target:\n",
        "          return arr[i],arr[j],arr[k]\n",
        "  return -1\n",
        "\n",
        "arr = [1,4,6,2,8]\n",
        "target = 12\n",
        "Three_sum(arr,target)"
      ],
      "metadata": {
        "colab": {
          "base_uri": "https://localhost:8080/"
        },
        "id": "bt0Di1VSIIdA",
        "outputId": "73558cc1-4167-4d44-e043-f2b20ed40cfe"
      },
      "execution_count": null,
      "outputs": [
        {
          "output_type": "execute_result",
          "data": {
            "text/plain": [
              "(4, 6, 2)"
            ]
          },
          "metadata": {},
          "execution_count": 37
        }
      ]
    },
    {
      "cell_type": "code",
      "source": [
        "def three_sum(arr,target):\n",
        "  arr.sort()\n",
        "  for i in range(len(arr)-2):\n",
        "    left = i+1\n",
        "    right = len(arr)-1\n",
        "    while left < right:\n",
        "      curr_sum = arr[i]+arr[left]+arr[right]\n",
        "      if curr_sum == target:\n",
        "        return arr[i],arr[left],arr[right]\n",
        "      elif curr_sum < target:\n",
        "        left +=1\n",
        "      else:\n",
        "        right -=1\n",
        "  return -1\n",
        "\n",
        "arr = [1,4,6,2,8]\n",
        "target = 12\n",
        "three_sum(arr,target)"
      ],
      "metadata": {
        "id": "H2UzZtW8LgNH",
        "colab": {
          "base_uri": "https://localhost:8080/"
        },
        "outputId": "24286ab9-b1c5-4841-a87b-b22e465ef305"
      },
      "execution_count": null,
      "outputs": [
        {
          "output_type": "execute_result",
          "data": {
            "text/plain": [
              "(2, 4, 6)"
            ]
          },
          "metadata": {},
          "execution_count": 2
        }
      ]
    },
    {
      "cell_type": "markdown",
      "source": [
        "Problem 7 : Given an array of n elements . Find three elements i, j, k in the array such that\n",
        "i * i + j * j = k*k."
      ],
      "metadata": {
        "id": "2bgkWSX566Yh"
      }
    },
    {
      "cell_type": "code",
      "source": [
        "\n",
        "def three_squares(arr):\n",
        "  arr.sort()\n",
        "  for i in range(len(arr)-1,0,-1):\n",
        "    left = 0\n",
        "    right = i-1\n",
        "    while(left < right):\n",
        "      sum_of_squares = arr[left]**2 + arr[right]**2\n",
        "      if sum_of_squares == arr[i]**2:\n",
        "        return f'{arr[left]} * {arr[left]} + {arr[right]} * {arr[right]} = {arr[i]} * {arr[i]}'\n",
        "      elif sum_of_squares < arr[i]**2:\n",
        "        left +=1\n",
        "      else:\n",
        "        right -=1\n",
        "  return -1\n",
        "\n",
        "arr = [1,4,6,2,8,10]\n",
        "three_squares(arr)"
      ],
      "metadata": {
        "colab": {
          "base_uri": "https://localhost:8080/",
          "height": 35
        },
        "id": "ZveT3vpw67ap",
        "outputId": "9875a4d9-ddab-4735-8d1a-6d142110986e"
      },
      "execution_count": null,
      "outputs": [
        {
          "output_type": "execute_result",
          "data": {
            "text/plain": [
              "'6 * 6 + 8 * 8 = 10 * 10'"
            ],
            "application/vnd.google.colaboratory.intrinsic+json": {
              "type": "string"
            }
          },
          "metadata": {},
          "execution_count": 8
        }
      ]
    },
    {
      "cell_type": "markdown",
      "source": [
        "Problem 8 : An element is a majority if it appears more than n/2 times. Give an algorithm takes an array of n\n",
        "element as argument and identifies a majority (if it exists)."
      ],
      "metadata": {
        "id": "v0Qs33I-oA5G"
      }
    },
    {
      "cell_type": "code",
      "source": [
        "def majorityElement(nums):\n",
        "    count = 0\n",
        "    candidate = None\n",
        "\n",
        "    for num in nums:\n",
        "        if count == 0:\n",
        "            candidate = num\n",
        "        if num == candidate:\n",
        "            count += 1\n",
        "        else:\n",
        "            count -= 1\n",
        "\n",
        "    return candidate\n",
        "\n",
        "arr = [1,2,1,1,2,3]\n",
        "majority = majorityElement(arr)\n",
        "if majority:\n",
        "    print(f\"The majority element is: {majority}\")\n",
        "else:\n",
        "    print(\"No majority element found.\")\n"
      ],
      "metadata": {
        "colab": {
          "base_uri": "https://localhost:8080/"
        },
        "id": "Uq8KQur_-oAo",
        "outputId": "4c0d2bbd-9c95-40ff-8584-702f76e79930"
      },
      "execution_count": null,
      "outputs": [
        {
          "output_type": "stream",
          "name": "stdout",
          "text": [
            "The majority element is: 1\n"
          ]
        }
      ]
    },
    {
      "cell_type": "markdown",
      "source": [
        "Problem 9 : Given n × n matrix, and in each row all 1’s are followed by 0’s. Find the row with the maximum\n",
        "number of 0’s."
      ],
      "metadata": {
        "id": "2V4LDUNToS5-"
      }
    },
    {
      "cell_type": "code",
      "source": [
        "def find_max_zero(matrix):\n",
        "  max_zeros = 0\n",
        "  row_index = -1\n",
        "  n = len(matrix)\n",
        "\n",
        "  for i in range(n):\n",
        "    curr_zeros = matrix[i].count(0)\n",
        "\n",
        "  if curr_zeros > max_zeros:\n",
        "    max_zeros = curr_zeros\n",
        "    row_index = i\n",
        "  return row_index\n",
        "\n",
        "matrix = [\n",
        "    [1,0,1],\n",
        "    [0,1,0],\n",
        "    [0,0,0]\n",
        "]\n",
        "\n",
        "print(f'The rows with maximum zeros is {find_max_zero(matrix)}')\n",
        "print(matrix[find_max_zero(matrix)])"
      ],
      "metadata": {
        "id": "OiWPvokjoTIi",
        "colab": {
          "base_uri": "https://localhost:8080/"
        },
        "outputId": "f338253e-2902-4ca3-9d24-fcbbb020e73b"
      },
      "execution_count": 3,
      "outputs": [
        {
          "output_type": "stream",
          "name": "stdout",
          "text": [
            "The rows with maximum zeros is 2\n",
            "[0, 0, 0]\n"
          ]
        }
      ]
    },
    {
      "cell_type": "markdown",
      "source": [
        "Problem 10 : Sort an array of 0’s, 1’s and 2’s [or R’s, G’s and B’s]: Given an array A[] consisting of 0’s, 1’s and\n",
        "2’s, give an algorithm for sorting A[].The algorithm should put all 0’s first, then all 1’s and finally all 2’s at the\n",
        "end. Example Input = {0,1,1,0,1,2,1,2,0,0,0,1}, Output = {0,0,0,0,0,1,1,1,1,1,2,2}"
      ],
      "metadata": {
        "id": "MjFSwIInoCmE"
      }
    },
    {
      "cell_type": "code",
      "source": [
        "def segregate_elements(arr):\n",
        "  left = 0\n",
        "  right = len(arr)-1\n",
        "  mid = 0\n",
        "\n",
        "  while(mid<=right):\n",
        "    if arr[mid]==0:\n",
        "      arr[mid],arr[left]=arr[left],arr[mid]\n",
        "      left+=1\n",
        "      mid+=1\n",
        "    elif arr[mid]==1:\n",
        "      mid+=1\n",
        "    elif arr[mid]==2:\n",
        "      arr[right],arr[mid]=arr[mid],arr[right]\n",
        "      right-=1\n",
        "\n",
        "\n",
        "arr = [0,1,1,0,1,2,1,2,0,0,0,1]\n",
        "segregate_elements(arr)\n",
        "print(arr)"
      ],
      "metadata": {
        "colab": {
          "base_uri": "https://localhost:8080/"
        },
        "id": "97GvSDGphxZb",
        "outputId": "b04e2b81-da1d-4399-f737-0d08ecacf125"
      },
      "execution_count": null,
      "outputs": [
        {
          "output_type": "stream",
          "name": "stdout",
          "text": [
            "[0, 0, 0, 0, 0, 1, 1, 1, 1, 1, 2, 2]\n"
          ]
        }
      ]
    }
  ]
}
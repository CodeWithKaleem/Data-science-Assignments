{
 "cells": [
  {
   "cell_type": "code",
   "execution_count": 14,
   "id": "780a29e6-9cc2-43fe-b1e3-b508d87bc9b3",
   "metadata": {},
   "outputs": [
    {
     "data": {
      "text/plain": [
       "False"
      ]
     },
     "execution_count": 14,
     "metadata": {},
     "output_type": "execute_result"
    }
   ],
   "source": [
    "#1. Given an array, check if it contains any duplicates or not.\n",
    "#arr = [1, 2, 4, 2, 5, 9]\n",
    "#Output = True\n",
    "\n",
    "\n",
    "def check_duplicate(arr):\n",
    "    checked_arr = []\n",
    "    for i in arr:\n",
    "        if i in checked_arr:\n",
    "            return True\n",
    "        checked_arr.append(i)\n",
    "    return False\n",
    "\n",
    "arr = [1, 2, 4, 2, 5, 9]\n",
    "check_duplicate(arr)\n",
    "\n"
   ]
  },
  {
   "cell_type": "code",
   "execution_count": 3,
   "id": "cee62f03-71a1-4306-b4e3-fa2bda762320",
   "metadata": {},
   "outputs": [
    {
     "name": "stdout",
     "output_type": "stream",
     "text": [
      "[5, 6, 7, 1, 2, 3, 4]\n"
     ]
    }
   ],
   "source": [
    "#2. Given an array and an integer k, rotate the array to the right by k steps.\n",
    "#arr = [1, 2, 3, 4, 5, 6, 7] k = 3\n",
    "#Output = [5, 6, 7, 1, 2, 3, 4]\n",
    "\n",
    "\n",
    "arr = [1, 2, 3, 4, 5, 6, 7] \n",
    "k = 3\n",
    "rotated_array = arr[k+1:] + arr[:k+1]\n",
    "print(rotated_array) "
   ]
  },
  {
   "cell_type": "code",
   "execution_count": 6,
   "id": "11825ca6-5f39-47e0-b09b-0cbcaf6fc857",
   "metadata": {},
   "outputs": [
    {
     "data": {
      "text/plain": [
       "[12, 9, 7, 5, 4, 2]"
      ]
     },
     "execution_count": 6,
     "metadata": {},
     "output_type": "execute_result"
    }
   ],
   "source": [
    "#3. Reverse the given array in-place, means without using any extra data structure.\n",
    "#arr = [2, 4, 5, 7, 9, 12]\n",
    "#Output = [12, 9, 7, 5, 4, 2]\n",
    "\n",
    "def reverse_array(arr):\n",
    "    left = 0\n",
    "    right = len(arr) - 1\n",
    "\n",
    "    while left < right:\n",
    "        # Swap elements\n",
    "        arr[left], arr[right] = arr[right], arr[left]\n",
    "\n",
    "        # Move towards the middle\n",
    "        left += 1\n",
    "        right -= 1\n",
    "\n",
    "    return arr\n",
    "\n",
    "arr = [2, 4, 5, 7, 9, 12]\n",
    " "
   ]
  },
  {
   "cell_type": "code",
   "execution_count": 13,
   "id": "7efc9c4e-97b5-4df4-be36-362a471dbd7d",
   "metadata": {},
   "outputs": [
    {
     "data": {
      "text/plain": [
       "20"
      ]
     },
     "execution_count": 13,
     "metadata": {},
     "output_type": "execute_result"
    }
   ],
   "source": [
    "#4. Given an array of integers, find the maximum element in an array\n",
    "#arr = [10, 5, 20, 8, 15]\n",
    "#Output = 20\n",
    "\n",
    "arr = [10, 5, 20, 8, 15]\n",
    "def max_arr(arr):\n",
    "    max_arr = arr[0]\n",
    "    for i in arr:\n",
    "        if i > max_arr:\n",
    "            max_arr = i\n",
    "            return max_arr\n",
    "max_arr(arr)"
   ]
  },
  {
   "cell_type": "code",
   "execution_count": 19,
   "id": "fcf3d6f2-a778-4f4b-86f2-bf3d856fd342",
   "metadata": {},
   "outputs": [
    {
     "name": "stdout",
     "output_type": "stream",
     "text": [
      "[1, 2, 3, 4, 5]\n"
     ]
    }
   ],
   "source": [
    "#5. Given a sorted array, remove the duplicate element without using any extra data structure.\n",
    "#arr = [1, 1, 2, 2, 2, 3, 3, 4, 4, 4, 5, 5]\n",
    "#Output = [1, 2, 3, 4, 5]\n",
    "\n",
    "arr = [1, 1, 2, 2, 2, 3, 3, 4, 4, 4, 5, 5]\n",
    "def remove_duplicate(arr):\n",
    "    i = 0\n",
    "    for j in range(1, len(arr)):\n",
    "        if arr[i] != arr[j]:\n",
    "            i += 1\n",
    "            arr[i] = arr[j]\n",
    "    return i + 1\n",
    "\n",
    "new_len = remove_duplicate(arr)\n",
    "print(arr[:new_len])"
   ]
  },
  {
   "cell_type": "code",
   "execution_count": null,
   "id": "b95a3463-c835-4b1e-a4df-555bf82ef08f",
   "metadata": {},
   "outputs": [],
   "source": []
  }
 ],
 "metadata": {
  "kernelspec": {
   "display_name": "Python 3 (ipykernel)",
   "language": "python",
   "name": "python3"
  },
  "language_info": {
   "codemirror_mode": {
    "name": "ipython",
    "version": 3
   },
   "file_extension": ".py",
   "mimetype": "text/x-python",
   "name": "python",
   "nbconvert_exporter": "python",
   "pygments_lexer": "ipython3",
   "version": "3.10.8"
  }
 },
 "nbformat": 4,
 "nbformat_minor": 5
}

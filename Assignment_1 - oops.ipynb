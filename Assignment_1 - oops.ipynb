{
 "cells": [
  {
   "cell_type": "code",
   "execution_count": 669,
   "id": "885504f7-c4af-444b-b999-5cb6cfbcb1a1",
   "metadata": {},
   "outputs": [],
   "source": [
    "# Problem 1: Bank Account Create a class representing a bank account with attributes like account number, account holder name, and balance.\n",
    "# Implement methods to deposit and withdraw money from the account.\n",
    "\n",
    "class Bank_Account:\n",
    "    \n",
    "    def __init__(self,account_number,account_holder_name,balance):\n",
    "        self.account_no = account_number\n",
    "        self.account_holder = account_holder_name\n",
    "        self.balance = balance\n",
    "        \n",
    "    def deposit(self,amount):\n",
    "        avl_balance = self.balance + amount\n",
    "        print(f'The amount {amount} is deposted to your account number = {self.account_no}')\n",
    "        print(f'Available Balance = {avl_balance}')\n",
    "        \n",
    "    def withdrawl(self,amount):\n",
    "        if self.balance > 0:\n",
    "            avl_balance = self.balance - amount\n",
    "            print(f'The amount {amount} is withdrawl from your account number = {self.account_no}')\n",
    "            print(f'Available Balance = {avl_balance}')\n",
    "        else:\n",
    "            print('Insufficient Balance')"
   ]
  },
  {
   "cell_type": "code",
   "execution_count": 670,
   "id": "360ce8d6-cecf-4602-93b0-7ab1fabfe1d6",
   "metadata": {},
   "outputs": [],
   "source": [
    "kaleem = Bank_Account(123456,'kaleem shaikh',1000)"
   ]
  },
  {
   "cell_type": "code",
   "execution_count": 671,
   "id": "8295532c-0791-4986-a62a-e818221fce3a",
   "metadata": {},
   "outputs": [
    {
     "name": "stdout",
     "output_type": "stream",
     "text": [
      "The amount 500 is deposted to your account number = 123456\n",
      "Available Balance = 1500\n"
     ]
    }
   ],
   "source": [
    "kaleem.deposit(500)"
   ]
  },
  {
   "cell_type": "code",
   "execution_count": 672,
   "id": "1c61f63c-292c-4bfc-9458-20d7087cff84",
   "metadata": {},
   "outputs": [
    {
     "name": "stdout",
     "output_type": "stream",
     "text": [
      "The amount 500 is withdrawl from your account number = 123456\n",
      "Available Balance = 500\n"
     ]
    }
   ],
   "source": [
    "kaleem.withdrawl(500)"
   ]
  },
  {
   "cell_type": "code",
   "execution_count": 673,
   "id": "d0d841b3-c5bd-4969-941f-4927f495244f",
   "metadata": {},
   "outputs": [],
   "source": [
    "# Problem 2: Employee Management Create a class representing an employee with attributes like employee ID, name, and salary. \n",
    "# Implement methods to calculate the yearly bonus and display employee details.\n",
    "\n",
    "class Employee:\n",
    "    \n",
    "    def __init__(self,Employee_Id,Employee_name,Employee_salary):\n",
    "        self.emp_id = Employee_Id\n",
    "        self.emp_name = Employee_name\n",
    "        self.emp_salary = Employee_salary\n",
    "    \n",
    "    def calculate_yearly_bonus(self,increment_percentage):\n",
    "        self.yearly_bonus = (self.emp_salary * increment_percentage)/100\n",
    "        print(f'The yearly bonus of Employee {self.emp_name} is incremented by {self.yearly_bonus} rupees.')\n",
    "        \n",
    "    def employee_details(self):\n",
    "        print(f'Employee ID = {self.emp_id}')\n",
    "        print(f'Employee Name = {self.emp_name}')\n",
    "        print(f'Employee Salary = {self.emp_salary}')\n",
    "        print(f'Employee Yearly Bonus = {self.yearly_bonus}')\n",
    "        "
   ]
  },
  {
   "cell_type": "code",
   "execution_count": 674,
   "id": "81d7f932-77ca-4678-be70-2fd513bf4a91",
   "metadata": {},
   "outputs": [],
   "source": [
    "kaleem = Employee(101,'Kaleem Shaikh',400000)"
   ]
  },
  {
   "cell_type": "code",
   "execution_count": 675,
   "id": "f476b63d-5c73-4b2a-a1e9-56fa18ff0a78",
   "metadata": {},
   "outputs": [
    {
     "name": "stdout",
     "output_type": "stream",
     "text": [
      "The yearly bonus of Employee Kaleem Shaikh is incremented by 40000.0 rupees.\n"
     ]
    }
   ],
   "source": [
    "kaleem.calculate_yearly_bonus(10)"
   ]
  },
  {
   "cell_type": "code",
   "execution_count": 676,
   "id": "199573bc-700b-43e6-b1f0-2cff836d8edb",
   "metadata": {},
   "outputs": [
    {
     "name": "stdout",
     "output_type": "stream",
     "text": [
      "Employee ID = 101\n",
      "Employee Name = Kaleem Shaikh\n",
      "Employee Salary = 400000\n",
      "Employee Yearly Bonus = 40000.0\n"
     ]
    }
   ],
   "source": [
    "kaleem.employee_details()"
   ]
  },
  {
   "cell_type": "code",
   "execution_count": 677,
   "id": "2e5bacda-ce5e-431a-afac-f52073d73a81",
   "metadata": {},
   "outputs": [],
   "source": [
    "# Problem 3: Vehicle Rental Create a class representing a vehicle rental system. \n",
    "# Implement methods to rent a vehicle, return a vehicle, and display available vehicles.\n",
    "\n",
    "class Vehicle_Rental:\n",
    "    \n",
    "    def __init__(self):\n",
    "        self.available_vehicles = {'Yamaha':5,'Pulsar':10,'Hero Honda':3,'KTM_390':6}\n",
    "        \n",
    "    def rent_vehicle(self,vehicle_name):\n",
    "        if vehicle_name in self.available_vehicles and self.available_vehicles[vehicle_name] > 0:\n",
    "            self.available_vehicles[vehicle_name]-=1\n",
    "            print(f' Vehicle {vehicle_name} is rented successfully.')\n",
    "        else:\n",
    "            print('Vehicle is not available.')\n",
    "            \n",
    "    def return_vehicle(self,vehicle_name): \n",
    "        if vehicle_name in self.available_vehicles:\n",
    "            self.available_vehicles[vehicle_name] +=1\n",
    "            print(f'Vehicle {vehicle_name} is returned successfully.')\n",
    "        else:\n",
    "            print(f'Vehicle {vehicle_name} is not recognized by system.')\n",
    "            \n",
    "    def avl_vehicles(self):\n",
    "        for vehicle_name,quantity in self.available_vehicles.items():\n",
    "            print(f'{vehicle_name} = {quantity}')\n",
    "        \n",
    "        \n",
    "    "
   ]
  },
  {
   "cell_type": "code",
   "execution_count": 678,
   "id": "18cf4ce8-97d7-430b-b85e-cfdd808d6c91",
   "metadata": {},
   "outputs": [],
   "source": [
    "kaleem = Vehicle_Rental()"
   ]
  },
  {
   "cell_type": "code",
   "execution_count": 679,
   "id": "062741e1-c55c-41d4-bd05-3768fb095429",
   "metadata": {},
   "outputs": [
    {
     "name": "stdout",
     "output_type": "stream",
     "text": [
      " Vehicle Yamaha is rented successfully.\n"
     ]
    }
   ],
   "source": [
    "kaleem.rent_vehicle('Yamaha')"
   ]
  },
  {
   "cell_type": "code",
   "execution_count": 680,
   "id": "45a57554-f712-4ef7-b691-d78e1c0f07b1",
   "metadata": {},
   "outputs": [
    {
     "name": "stdout",
     "output_type": "stream",
     "text": [
      "Yamaha = 4\n",
      "Pulsar = 10\n",
      "Hero Honda = 3\n",
      "KTM_390 = 6\n"
     ]
    }
   ],
   "source": [
    "kaleem.avl_vehicles()"
   ]
  },
  {
   "cell_type": "code",
   "execution_count": 681,
   "id": "931eb5aa-4d7a-49b6-a19e-6415229a69ba",
   "metadata": {},
   "outputs": [
    {
     "name": "stdout",
     "output_type": "stream",
     "text": [
      "Vehicle Yamaha is returned successfully.\n"
     ]
    }
   ],
   "source": [
    "kaleem.return_vehicle('Yamaha')"
   ]
  },
  {
   "cell_type": "code",
   "execution_count": 682,
   "id": "407b680f-8316-4183-ac91-632ca3d18c43",
   "metadata": {},
   "outputs": [
    {
     "name": "stdout",
     "output_type": "stream",
     "text": [
      "Yamaha = 5\n",
      "Pulsar = 10\n",
      "Hero Honda = 3\n",
      "KTM_390 = 6\n"
     ]
    }
   ],
   "source": [
    "kaleem.avl_vehicles()"
   ]
  },
  {
   "cell_type": "code",
   "execution_count": 683,
   "id": "d6d870a0-01eb-4990-bb19-98217d8781d1",
   "metadata": {},
   "outputs": [],
   "source": [
    "# Problem 4: Library Catalog Create classes representing a library and a book. \n",
    "# Implement methods to add books to the library, borrow books, and display available books.\n",
    "\n",
    "class book:\n",
    "    \n",
    "    def __init__(self,title,author):\n",
    "        self.book_title = title\n",
    "        self.book_author = author\n",
    "        \n",
    "class Library:\n",
    "    \n",
    "    def __init__(self):\n",
    "        self.avl_books = {}\n",
    "        \n",
    "    def add_books(self,book):\n",
    "        if book.book_title in self.avl_books:\n",
    "            print(f'Book already exists in library')\n",
    "        else:\n",
    "            self.avl_books[book.book_title] = book.book_author\n",
    "            print('Book is successfully added to library.')\n",
    "            \n",
    "    def borrow_books(self,book):\n",
    "        if book.book_title in self.avl_books:\n",
    "            del self.avl_books[book.book_title]\n",
    "            print('Book Borrowed Successfully.')\n",
    "        else:\n",
    "            print('Book is not recognized by library system.')\n",
    "        \n",
    "    def display_avl_books(self):\n",
    "        for book_title,book_author in self.avl_books.items():\n",
    "            print(f'{book_title} = {book_author}')\n",
    "    "
   ]
  },
  {
   "cell_type": "code",
   "execution_count": 684,
   "id": "d5e4c405-7c4e-4b21-a3a6-9274f1563be0",
   "metadata": {},
   "outputs": [],
   "source": [
    "book_1 = book('DATA SCIENCE','kaleem shaikh')\n",
    "book_2 = book('Machine learning','amit yadav')\n",
    "book_3 = book('DSA','sudhanshu kumar')\n",
    "book_4 = book('Python','code with kaleem')"
   ]
  },
  {
   "cell_type": "code",
   "execution_count": 685,
   "id": "5acfd1c1-e0cf-497f-ba99-f3cff4498768",
   "metadata": {},
   "outputs": [],
   "source": [
    "kaleem = Library()"
   ]
  },
  {
   "cell_type": "code",
   "execution_count": 686,
   "id": "bdf49f03-cbf3-42a5-998b-a93533bc6a9d",
   "metadata": {},
   "outputs": [
    {
     "name": "stdout",
     "output_type": "stream",
     "text": [
      "Book is successfully added to library.\n",
      "Book is successfully added to library.\n",
      "Book is successfully added to library.\n",
      "Book is successfully added to library.\n"
     ]
    }
   ],
   "source": [
    "kaleem.add_books(book_1)\n",
    "\n",
    "kaleem.add_books(book_2)\n",
    "\n",
    "kaleem.add_books(book_3)\n",
    "\n",
    "kaleem.add_books(book_4)"
   ]
  },
  {
   "cell_type": "code",
   "execution_count": 687,
   "id": "92a7bfc5-1772-416c-bca4-64af5d338d18",
   "metadata": {},
   "outputs": [
    {
     "name": "stdout",
     "output_type": "stream",
     "text": [
      "Book Borrowed Successfully.\n",
      "Book Borrowed Successfully.\n"
     ]
    }
   ],
   "source": [
    "kaleem.borrow_books(book_1)\n",
    "\n",
    "kaleem.borrow_books(book_2)"
   ]
  },
  {
   "cell_type": "code",
   "execution_count": 688,
   "id": "38169d88-7aec-470c-b543-6da50155e702",
   "metadata": {},
   "outputs": [
    {
     "name": "stdout",
     "output_type": "stream",
     "text": [
      "DSA = sudhanshu kumar\n",
      "Python = code with kaleem\n"
     ]
    }
   ],
   "source": [
    "kaleem.display_avl_books()"
   ]
  },
  {
   "cell_type": "code",
   "execution_count": 689,
   "id": "869e8220-c8e5-4b32-80f9-793dc8fcdb63",
   "metadata": {},
   "outputs": [],
   "source": [
    "# Problem 5: Product Inventory Create classes representing a product and an inventory system. \n",
    "# Implement methods to add products to the inventory, update product quantity, and display available products."
   ]
  },
  {
   "cell_type": "code",
   "execution_count": 690,
   "id": "dad97aab-b36e-41c3-af11-f3d1823b08f8",
   "metadata": {},
   "outputs": [],
   "source": [
    "class product:\n",
    "    \n",
    "    def __init__(self,name,quantity):\n",
    "        self.product_name = name\n",
    "        self.product_quantity = quantity\n",
    "        \n",
    "\n",
    "class Inventory:\n",
    "    \n",
    "    def __init__(self):\n",
    "        self.avl_products = {}\n",
    "        \n",
    "    def add_product(self,product):\n",
    "        if product.product_name in self.avl_products:\n",
    "            print(f'Product {product.product_name} already exists in Inventory')\n",
    "        else:\n",
    "            self.avl_products[product.product_name] = product.product_quantity\n",
    "            print('Product is successfully added to inventory.')\n",
    "    \n",
    "    def update_product_quantity(self,product_name,quantity):\n",
    "        if product_name in self.avl_products:\n",
    "            self.avl_products[product_name] = quantity\n",
    "            print(f'Product Quantity is successfully updated.')\n",
    "        else:\n",
    "            print(f'Product is not available in inventory.')\n",
    "            \n",
    "    def display_avl_products(self):\n",
    "        for p_name,p_quantity in self.avl_products.items():\n",
    "            print(f'{p_name} = {p_quantity}')"
   ]
  },
  {
   "cell_type": "code",
   "execution_count": 691,
   "id": "3e3d0c4f-7e8f-4c8a-9f13-78a7dc94eaf7",
   "metadata": {},
   "outputs": [],
   "source": [
    "product_1 = product('Soap',10)\n",
    "product_2 = product('Oil',5)\n",
    "product_3 = product('Book',5)"
   ]
  },
  {
   "cell_type": "code",
   "execution_count": 692,
   "id": "7c39e2ed-3eae-4708-8dcf-88c7f037df81",
   "metadata": {},
   "outputs": [],
   "source": [
    "inventory = Inventory()"
   ]
  },
  {
   "cell_type": "code",
   "execution_count": 693,
   "id": "0e9a3a05-9b2e-47bd-9b79-2d0579e154a0",
   "metadata": {},
   "outputs": [
    {
     "name": "stdout",
     "output_type": "stream",
     "text": [
      "Product is successfully added to inventory.\n"
     ]
    }
   ],
   "source": [
    "inventory.add_product(product_1)"
   ]
  },
  {
   "cell_type": "code",
   "execution_count": 694,
   "id": "681788e9-5a2a-453b-8059-b9968ccec0e6",
   "metadata": {},
   "outputs": [
    {
     "name": "stdout",
     "output_type": "stream",
     "text": [
      "Product is successfully added to inventory.\n"
     ]
    }
   ],
   "source": [
    "inventory.add_product(product_2)"
   ]
  },
  {
   "cell_type": "code",
   "execution_count": 695,
   "id": "494806c8-4e1e-4070-81cb-93baaf542473",
   "metadata": {},
   "outputs": [
    {
     "name": "stdout",
     "output_type": "stream",
     "text": [
      "Product is successfully added to inventory.\n"
     ]
    }
   ],
   "source": [
    "inventory.add_product(product_3)"
   ]
  },
  {
   "cell_type": "code",
   "execution_count": 696,
   "id": "5ccc5f3f-7ed0-4259-a1bf-d99d8ea33019",
   "metadata": {},
   "outputs": [
    {
     "name": "stdout",
     "output_type": "stream",
     "text": [
      "Product Quantity is successfully updated.\n"
     ]
    }
   ],
   "source": [
    "inventory.update_product_quantity('Oil',10)"
   ]
  },
  {
   "cell_type": "code",
   "execution_count": 697,
   "id": "bbb569aa-71e7-4244-af3f-997a797c1806",
   "metadata": {},
   "outputs": [
    {
     "name": "stdout",
     "output_type": "stream",
     "text": [
      "Soap = 10\n",
      "Oil = 10\n",
      "Book = 5\n"
     ]
    }
   ],
   "source": [
    "inventory.display_avl_products()"
   ]
  },
  {
   "cell_type": "code",
   "execution_count": 698,
   "id": "f253c4da-5629-45ca-9b00-b82effe71ef0",
   "metadata": {},
   "outputs": [],
   "source": [
    "# Problem 6: Shape Calculation Create a class representing a shape with attributes like length, width, and height. \n",
    "# Implement methods to calculate the area and perimeter of the shape.\n",
    "\n",
    "class shape:\n",
    "    \n",
    "    def __init__(self,length,width,height):\n",
    "        self.length = length\n",
    "        self.width = width\n",
    "        self.height = height\n",
    "        #self.shape = [length,width,height]\n",
    "\n",
    "class calculate_shape:\n",
    "    \n",
    "    def calculate_area(self,shape):\n",
    "        self.area = 2 * (shape.length * shape.width) + 2 * (shape.length * shape.height) + 2 * (shape.width * shape.height)\n",
    "        print(f'Area  = {self.area}')\n",
    "        \n",
    "    def calculate_perimeter(self,shape):\n",
    "        self.perimeter = 4 * (shape.length + shape.width + shape.height)\n",
    "        print(f'Perimeter  = {self.perimeter}')\n",
    "    "
   ]
  },
  {
   "cell_type": "code",
   "execution_count": 699,
   "id": "2a75ab89-b6c6-471e-a567-c7a4fd334234",
   "metadata": {},
   "outputs": [],
   "source": [
    "cuboid = shape(10,3,5)"
   ]
  },
  {
   "cell_type": "code",
   "execution_count": 700,
   "id": "a7a3d221-9462-4837-a0d6-1c3cd0b2a40f",
   "metadata": {},
   "outputs": [],
   "source": [
    "calculate_obj = calculate_shape()"
   ]
  },
  {
   "cell_type": "code",
   "execution_count": 701,
   "id": "a425ff6d-816f-4f1b-9084-3669e0935e41",
   "metadata": {},
   "outputs": [
    {
     "name": "stdout",
     "output_type": "stream",
     "text": [
      "Area  = 190\n"
     ]
    }
   ],
   "source": [
    "calculate_obj.calculate_area(cuboid)"
   ]
  },
  {
   "cell_type": "code",
   "execution_count": 702,
   "id": "32d69acd-06f5-49b5-b7b6-eccdb75a93b7",
   "metadata": {},
   "outputs": [
    {
     "name": "stdout",
     "output_type": "stream",
     "text": [
      "Perimeter  = 72\n"
     ]
    }
   ],
   "source": [
    "calculate_obj.calculate_perimeter(cuboid)"
   ]
  },
  {
   "cell_type": "code",
   "execution_count": 703,
   "id": "39cca98d-3e2c-4243-87c0-ca701f1779d6",
   "metadata": {},
   "outputs": [],
   "source": [
    "# Problem 7: Student Management Create a class representing a student with attributes like student ID, name, and grades. \n",
    "# Implement methods to calculate the average grade and display student details.\n",
    "\n",
    "class student:\n",
    "    \n",
    "    def __init__(self,student_id,name,grade):\n",
    "        self.stud_id = student_id\n",
    "        self.stud_name = name\n",
    "        self.stud_grade = grade\n",
    "    \n",
    "    def cal_average(self):\n",
    "        total_grades = sum(self.stud_grade.values())\n",
    "        average = total_grades/len(self.stud_grade)\n",
    "        return f'Average of {self.stud_name} = {average}'\n",
    "    \n",
    "    def stud_details(self):\n",
    "        print(f'Student ID = {self.stud_id}')\n",
    "        print(f'Student name = {self.stud_name}')\n",
    "        print(f'Student grades = {self.stud_grade}')\n",
    "        "
   ]
  },
  {
   "cell_type": "code",
   "execution_count": 704,
   "id": "babb2da7-a175-4a3e-b657-04a82d8c38de",
   "metadata": {},
   "outputs": [],
   "source": [
    "kaleem = student(51,'Kaleem Shaikh',{'English':50,'Hindi':87,'Marathi':40})"
   ]
  },
  {
   "cell_type": "code",
   "execution_count": 705,
   "id": "0e0ab061-9162-4e0c-9777-3bd046107467",
   "metadata": {},
   "outputs": [
    {
     "data": {
      "text/plain": [
       "'Average of Kaleem Shaikh = 59.0'"
      ]
     },
     "execution_count": 705,
     "metadata": {},
     "output_type": "execute_result"
    }
   ],
   "source": [
    "kaleem.cal_average()"
   ]
  },
  {
   "cell_type": "code",
   "execution_count": 706,
   "id": "860510be-619e-4301-898b-15821bb42caf",
   "metadata": {},
   "outputs": [
    {
     "name": "stdout",
     "output_type": "stream",
     "text": [
      "Student ID = 51\n",
      "Student name = Kaleem Shaikh\n",
      "Student grades = {'English': 50, 'Hindi': 87, 'Marathi': 40}\n"
     ]
    }
   ],
   "source": [
    "kaleem.stud_details()"
   ]
  },
  {
   "cell_type": "code",
   "execution_count": 707,
   "id": "46f6cda6-831a-4412-b113-cdcf6c3a0675",
   "metadata": {},
   "outputs": [],
   "source": [
    "# Problem 8: Email Management Create a class representing an email with attributes like sender, recipient, and subject.\n",
    "# Implement methods to send an email and display email details.\n",
    "\n",
    "class email:\n",
    "    \n",
    "    def __init__(self,sender,recipient,subject):\n",
    "        self.sender = sender\n",
    "        self.recipient = recipient\n",
    "        self.subject = subject\n",
    "        \n",
    "    def send_email(self,content):\n",
    "        print(f'''\n",
    "        Sender = {self.sender}\n",
    "        Recipient = {self.recipient}\n",
    "        Subject = {self.subject}\n",
    "        Content = {content}\n",
    "        ''')\n",
    "    def display_email_details(self):\n",
    "        print(f\"\"\"\n",
    "        Sender = {self.sender}\n",
    "        Recipient = {self.recipient}\n",
    "        Subject = {self.subject}\n",
    "        \"\"\")"
   ]
  },
  {
   "cell_type": "code",
   "execution_count": 708,
   "id": "804ea9d1-4817-4474-adef-79d363b9395a",
   "metadata": {},
   "outputs": [],
   "source": [
    "message = email('Kaleem','Pwskills','Enquiring about courses')"
   ]
  },
  {
   "cell_type": "code",
   "execution_count": 709,
   "id": "aeeada66-8f05-4895-bbcb-6cf5be3e6b2f",
   "metadata": {},
   "outputs": [
    {
     "name": "stdout",
     "output_type": "stream",
     "text": [
      "\n",
      "        Sender = Kaleem\n",
      "        Recipient = Pwskills\n",
      "        Subject = Enquiring about courses\n",
      "        Content = I want to know about the mentors that will teach the data science pro batch.\n",
      "        \n"
     ]
    }
   ],
   "source": [
    "message.send_email('I want to know about the mentors that will teach the data science pro batch.')"
   ]
  },
  {
   "cell_type": "code",
   "execution_count": 710,
   "id": "741f3b8a-e736-4b74-9285-743d4295779c",
   "metadata": {},
   "outputs": [
    {
     "name": "stdout",
     "output_type": "stream",
     "text": [
      "\n",
      "        Sender = Kaleem\n",
      "        Recipient = Pwskills\n",
      "        Subject = Enquiring about courses\n",
      "        \n"
     ]
    }
   ],
   "source": [
    "message.display_email_details()"
   ]
  },
  {
   "cell_type": "code",
   "execution_count": 711,
   "id": "897731be-3042-4129-8e36-e9b5eede2710",
   "metadata": {},
   "outputs": [],
   "source": [
    "# Problem 9: Social Media Profile Create a class representing a social media profile with attributes like username and posts. \n",
    "# Implement methods to add posts, display posts, and search for posts by keyword.\n",
    "\n",
    "class social_media_profile:\n",
    "    \n",
    "    def __init__(self,username):\n",
    "        self.username = username\n",
    "        self.posts = []\n",
    "        \n",
    "    def add_posts(self,post):\n",
    "        return self.posts.append(post)\n",
    "    \n",
    "    def display_posts(self):\n",
    "        for post in self.posts:\n",
    "            print(f'{post}')\n",
    "            \n",
    "    def search_post(self,keyword):\n",
    "        for post in self.posts:\n",
    "            if keyword.lower() in post.lower():\n",
    "                print(post)\n",
    "        "
   ]
  },
  {
   "cell_type": "code",
   "execution_count": 712,
   "id": "16e9b20e-b336-464e-8bcb-0d9bfd608e9a",
   "metadata": {},
   "outputs": [],
   "source": [
    "kaleem = social_media_profile('kaleem@2002')"
   ]
  },
  {
   "cell_type": "code",
   "execution_count": 713,
   "id": "364ecb20-5bb9-4a16-be18-92f78bd35d52",
   "metadata": {},
   "outputs": [],
   "source": [
    "kaleem.add_posts('Machine Learning')"
   ]
  },
  {
   "cell_type": "code",
   "execution_count": 714,
   "id": "b40f8e6d-d755-466b-b176-1370e9123bf3",
   "metadata": {},
   "outputs": [],
   "source": [
    "kaleem.add_posts('Data Science')"
   ]
  },
  {
   "cell_type": "code",
   "execution_count": 715,
   "id": "4ab67768-bf13-435e-b33f-997e368e8244",
   "metadata": {},
   "outputs": [],
   "source": [
    "kaleem.add_posts('Big data')"
   ]
  },
  {
   "cell_type": "code",
   "execution_count": 716,
   "id": "67180dd9-53fb-42d2-8d65-39d806d9efc1",
   "metadata": {},
   "outputs": [
    {
     "name": "stdout",
     "output_type": "stream",
     "text": [
      "Machine Learning\n",
      "Data Science\n",
      "Big data\n"
     ]
    }
   ],
   "source": [
    "kaleem.display_posts()"
   ]
  },
  {
   "cell_type": "code",
   "execution_count": 717,
   "id": "5f3f99f7-2bea-4c34-973f-3e4e4527f690",
   "metadata": {},
   "outputs": [
    {
     "name": "stdout",
     "output_type": "stream",
     "text": [
      "Data Science\n",
      "Big data\n"
     ]
    }
   ],
   "source": [
    "kaleem.search_post('data')"
   ]
  },
  {
   "cell_type": "code",
   "execution_count": 718,
   "id": "534b2d9d-b146-416c-80b0-bc8796cc6011",
   "metadata": {},
   "outputs": [],
   "source": [
    "# Problem 10: ToDo List Create a class representing a ToDo list with attributes like tasks and due dates. \n",
    "# Implement methods to add tasks, mark tasks as completed, and display pending tasks.\n",
    "\n",
    "class Task:\n",
    "    \n",
    "    def __init__(self,task,due_date):\n",
    "        self.task = task\n",
    "        self.due_date = due_date\n",
    "\n",
    "class Todo_list:\n",
    "    \n",
    "    def __init__(self):\n",
    "        self.tasks = {}\n",
    "        \n",
    "    def add_task(self,task):\n",
    "        if task.task in self.tasks:\n",
    "            print(f'Task {task.task} already exists in Todo List')\n",
    "        else:\n",
    "            self.tasks[task.task] = task.due_date\n",
    "            print('Task is successfully added to Todo List.')\n",
    "    \n",
    "        \n",
    "        \n",
    "    def task_completed(self,task):\n",
    "        if task.task in self.tasks:\n",
    "            del self.tasks[task.task]\n",
    "            print('Task Completed Successfully.')\n",
    "        else:\n",
    "            print('Task does not found in Todo List')\n",
    "        \n",
    "      \n",
    "    def display_pending_task(self):\n",
    "        for task,due_date in self.tasks.items():\n",
    "            print(f'{task} = {due_date}')"
   ]
  },
  {
   "cell_type": "code",
   "execution_count": 719,
   "id": "00acb367-0a25-4df3-959f-18bac1db4203",
   "metadata": {},
   "outputs": [],
   "source": [
    "task_1 = Task('Write code','13/01/2024')\n",
    "task_2 = Task('Learning Flask','14/01/2024')\n",
    "task_3 = Task('Go to GYM','15/01/2024')"
   ]
  },
  {
   "cell_type": "code",
   "execution_count": 720,
   "id": "fcaed218-6c94-4d0c-8f29-a6276ab0f1f5",
   "metadata": {},
   "outputs": [],
   "source": [
    "kaleem = Todo_list()\n",
    "kaleem = Todo_list()\n",
    "kaleem = Todo_list()"
   ]
  },
  {
   "cell_type": "code",
   "execution_count": 721,
   "id": "faa9d487-f9ca-415a-b9e7-9e30fc415663",
   "metadata": {},
   "outputs": [
    {
     "name": "stdout",
     "output_type": "stream",
     "text": [
      "Task is successfully added to Todo List.\n",
      "Task is successfully added to Todo List.\n",
      "Task is successfully added to Todo List.\n"
     ]
    }
   ],
   "source": [
    "kaleem.add_task(task_1)\n",
    "kaleem.add_task(task_2)\n",
    "kaleem.add_task(task_3)"
   ]
  },
  {
   "cell_type": "code",
   "execution_count": 722,
   "id": "4a9209cb-eb23-4245-8823-d89bfd8f5d82",
   "metadata": {},
   "outputs": [
    {
     "name": "stdout",
     "output_type": "stream",
     "text": [
      "Task Completed Successfully.\n"
     ]
    }
   ],
   "source": [
    "kaleem.task_completed(task_1)"
   ]
  },
  {
   "cell_type": "code",
   "execution_count": 723,
   "id": "2c847614-56ce-4508-a074-efbb043f2f98",
   "metadata": {},
   "outputs": [
    {
     "name": "stdout",
     "output_type": "stream",
     "text": [
      "Learning Flask = 14/01/2024\n",
      "Go to GYM = 15/01/2024\n"
     ]
    }
   ],
   "source": [
    "kaleem.display_pending_task()"
   ]
  },
  {
   "cell_type": "code",
   "execution_count": null,
   "id": "7411a023-6a73-4988-ab36-9c72dc3e45a3",
   "metadata": {},
   "outputs": [],
   "source": []
  }
 ],
 "metadata": {
  "kernelspec": {
   "display_name": "Python 3 (ipykernel)",
   "language": "python",
   "name": "python3"
  },
  "language_info": {
   "codemirror_mode": {
    "name": "ipython",
    "version": 3
   },
   "file_extension": ".py",
   "mimetype": "text/x-python",
   "name": "python",
   "nbconvert_exporter": "python",
   "pygments_lexer": "ipython3",
   "version": "3.10.8"
  }
 },
 "nbformat": 4,
 "nbformat_minor": 5
}

{
  "nbformat": 4,
  "nbformat_minor": 0,
  "metadata": {
    "colab": {
      "provenance": []
    },
    "kernelspec": {
      "name": "python3",
      "display_name": "Python 3"
    },
    "language_info": {
      "name": "python"
    }
  },
  "cells": [
    {
      "cell_type": "markdown",
      "source": [
        "#1. What is a Python library? Why do we use Python libraries?\n",
        "\n",
        "Ans : Python library is a collection of function that allows you to perform many tasks without writing the code from scratch.\n",
        "\n",
        "Python library is used to save time and effort,becuase we dont have to write the code from scratch and reusability of code also help to save time and effort.\n",
        "**bold text**\n",
        "Python library increase productivity and efficiency.\n"
      ],
      "metadata": {
        "id": "7_miYKsCV1A6"
      }
    },
    {
      "cell_type": "markdown",
      "source": [
        "#2. What is the difference between Numpy array and List?\n",
        "\n",
        "Ans :\n",
        "\n",
        "Numpy array ->\n",
        "\n",
        "1. Numpy array has faster computational speed.  \n",
        "2. Numpy array can store same datatype elements only.\n",
        "3. Numpy array can retrieve data faster as it stores elements based on indezes.  \n",
        "\n",
        "\n",
        "List ->\n",
        "\n",
        "1. List has slower computational speed.  \n",
        "2. List can store multiples datatypes elements.\n",
        "3. List does not store themselves they store address of memory location.\n",
        "\n"
      ],
      "metadata": {
        "id": "g2u5I_hwYMIv"
      }
    },
    {
      "cell_type": "markdown",
      "source": [
        "# 3. Find the shape, size and dimension of the following array?\n",
        "[[1, 2, 3, 4]\n",
        "[5, 6, 7, 8],\n",
        "[9, 10, 11, 12]]"
      ],
      "metadata": {
        "id": "rWP3lfV4by2_"
      }
    },
    {
      "cell_type": "code",
      "execution_count": 8,
      "metadata": {
        "id": "liOqgh2fVvJA"
      },
      "outputs": [],
      "source": [
        "import numpy as np\n",
        "arr = np.array([[1, 2, 3, 4] ,[5, 6, 7, 8], [9, 10, 11, 12]])"
      ]
    },
    {
      "cell_type": "code",
      "source": [
        "arr.shape"
      ],
      "metadata": {
        "colab": {
          "base_uri": "https://localhost:8080/"
        },
        "id": "YxznPHVrcDWc",
        "outputId": "089bdf4d-77ca-41dc-c6c4-888a60e16dc7"
      },
      "execution_count": 9,
      "outputs": [
        {
          "output_type": "execute_result",
          "data": {
            "text/plain": [
              "(3, 4)"
            ]
          },
          "metadata": {},
          "execution_count": 9
        }
      ]
    },
    {
      "cell_type": "code",
      "source": [
        "arr.size"
      ],
      "metadata": {
        "colab": {
          "base_uri": "https://localhost:8080/"
        },
        "id": "XZ4nc1pidGf8",
        "outputId": "6600179f-2ced-4f24-80bd-92828f3fb52d"
      },
      "execution_count": 10,
      "outputs": [
        {
          "output_type": "execute_result",
          "data": {
            "text/plain": [
              "12"
            ]
          },
          "metadata": {},
          "execution_count": 10
        }
      ]
    },
    {
      "cell_type": "code",
      "source": [
        "arr.ndim"
      ],
      "metadata": {
        "colab": {
          "base_uri": "https://localhost:8080/"
        },
        "id": "mOr26R8odM-L",
        "outputId": "1484dd7c-ab8d-47ff-c4be-a8033a4cadc7"
      },
      "execution_count": 11,
      "outputs": [
        {
          "output_type": "execute_result",
          "data": {
            "text/plain": [
              "2"
            ]
          },
          "metadata": {},
          "execution_count": 11
        }
      ]
    },
    {
      "cell_type": "markdown",
      "source": [
        "# 4. Write python code to access the first row of the following array?\n",
        "[[1, 2, 3, 4]\n",
        "[5, 6, 7, 8],\n",
        "[9, 10, 11, 12]]"
      ],
      "metadata": {
        "id": "l1uPXBb1dS3j"
      }
    },
    {
      "cell_type": "code",
      "source": [
        "arr = np.array([[1, 2, 3, 4] ,[5, 6, 7, 8], [9, 10, 11, 12]])"
      ],
      "metadata": {
        "id": "UGI3-aXndOPx"
      },
      "execution_count": 12,
      "outputs": []
    },
    {
      "cell_type": "code",
      "source": [
        "arr[0]"
      ],
      "metadata": {
        "colab": {
          "base_uri": "https://localhost:8080/"
        },
        "id": "uKDXxXgRde0w",
        "outputId": "1c9f05a1-e367-48b5-8082-1457b8dfbed9"
      },
      "execution_count": 13,
      "outputs": [
        {
          "output_type": "execute_result",
          "data": {
            "text/plain": [
              "array([1, 2, 3, 4])"
            ]
          },
          "metadata": {},
          "execution_count": 13
        }
      ]
    },
    {
      "cell_type": "markdown",
      "source": [
        "# 5. How do you access the element at the third row and fourth column from the given numpy array?\n",
        "[[1, 2, 3, 4]\n",
        "[5, 6, 7, 8],\n",
        "[9, 10, 11, 12]]"
      ],
      "metadata": {
        "id": "5xjox15MeCyx"
      }
    },
    {
      "cell_type": "code",
      "source": [
        "arr = np.array([[1, 2, 3, 4] ,[5, 6, 7, 8], [9, 10, 11, 12]])"
      ],
      "metadata": {
        "id": "2I24ChGwdlnW"
      },
      "execution_count": 14,
      "outputs": []
    },
    {
      "cell_type": "code",
      "source": [
        "arr[2,3]"
      ],
      "metadata": {
        "colab": {
          "base_uri": "https://localhost:8080/"
        },
        "id": "6unaslHTeJlT",
        "outputId": "f85e92a6-50e7-491f-975e-3525010751e9"
      },
      "execution_count": 19,
      "outputs": [
        {
          "output_type": "execute_result",
          "data": {
            "text/plain": [
              "12"
            ]
          },
          "metadata": {},
          "execution_count": 19
        }
      ]
    },
    {
      "cell_type": "markdown",
      "source": [
        "# 6. Write code to extract all odd-indexed elements from the given numpy array?\n",
        "[[1, 2, 3, 4]\n",
        "[5, 6, 7, 8],\n",
        "[9, 10, 11, 12]]"
      ],
      "metadata": {
        "id": "FaHnV1FsfFU4"
      }
    },
    {
      "cell_type": "code",
      "source": [
        "arr = np.array([[1, 2, 3, 4], [5, 6, 7, 8], [9, 10, 11, 12]])"
      ],
      "metadata": {
        "id": "JjsoVkFOeTWA"
      },
      "execution_count": 20,
      "outputs": []
    },
    {
      "cell_type": "code",
      "source": [
        "arr.flatten()"
      ],
      "metadata": {
        "colab": {
          "base_uri": "https://localhost:8080/"
        },
        "id": "9Cy0Ax_LfUkb",
        "outputId": "6f9ce8d6-d6d8-44a2-997e-46876d18f8e3"
      },
      "execution_count": 23,
      "outputs": [
        {
          "output_type": "execute_result",
          "data": {
            "text/plain": [
              "array([ 1,  2,  3,  4,  5,  6,  7,  8,  9, 10, 11, 12])"
            ]
          },
          "metadata": {},
          "execution_count": 23
        }
      ]
    },
    {
      "cell_type": "code",
      "source": [
        "arr.flatten()[1::2]"
      ],
      "metadata": {
        "colab": {
          "base_uri": "https://localhost:8080/"
        },
        "id": "fd7s_229fcQt",
        "outputId": "111ffacb-aec7-48e3-f388-65d5b2fba9bc"
      },
      "execution_count": 24,
      "outputs": [
        {
          "output_type": "execute_result",
          "data": {
            "text/plain": [
              "array([ 2,  4,  6,  8, 10, 12])"
            ]
          },
          "metadata": {},
          "execution_count": 24
        }
      ]
    },
    {
      "cell_type": "markdown",
      "source": [
        "# 7. How can you generate a random 3x3 matrix with values between 0 and 1?"
      ],
      "metadata": {
        "id": "5qrcl28zgDyE"
      }
    },
    {
      "cell_type": "code",
      "source": [
        "arr = np.random.random_sample((3,3))"
      ],
      "metadata": {
        "id": "ABzGQwx0gAWd"
      },
      "execution_count": 27,
      "outputs": []
    },
    {
      "cell_type": "code",
      "source": [
        "arr"
      ],
      "metadata": {
        "colab": {
          "base_uri": "https://localhost:8080/"
        },
        "id": "mDOOqZidghMQ",
        "outputId": "8d37277f-d929-401e-ea48-9f849c82e0b9"
      },
      "execution_count": 31,
      "outputs": [
        {
          "output_type": "execute_result",
          "data": {
            "text/plain": [
              "array([[0.64481485, 0.81847238, 0.4589448 ],\n",
              "       [0.35546707, 0.87420303, 0.25027256],\n",
              "       [0.81472312, 0.67330139, 0.35964067]])"
            ]
          },
          "metadata": {},
          "execution_count": 31
        }
      ]
    },
    {
      "cell_type": "markdown",
      "source": [
        "# 8. Describe the difference between np.random.rand and np.random.randn?\n",
        "\n",
        "Ans :\n",
        "\n",
        "np.random.rand ->\n",
        "\n",
        "This function is used to generate random numbers from a uniform distribution between [0,1) where 0 is inclusive and 1 is exclusive.\n",
        "\n",
        "\n",
        "np.random.randn ->\n",
        "\n",
        "This function is used to generate random numbers from a normal distribution."
      ],
      "metadata": {
        "id": "jgZ9nZ4yhTCW"
      }
    },
    {
      "cell_type": "markdown",
      "source": [
        "# 9. Write code to increase the dimension of the following array?\n",
        "[[1, 2, 3, 4]\n",
        "[5, 6, 7, 8],\n",
        "[9, 10, 11, 12]]"
      ],
      "metadata": {
        "id": "BAOzKFNaiicg"
      }
    },
    {
      "cell_type": "code",
      "source": [
        "arr = np.array([[1, 2, 3, 4] ,[5, 6, 7, 8], [9, 10, 11, 12]])"
      ],
      "metadata": {
        "id": "vJulGU97ghzf"
      },
      "execution_count": 32,
      "outputs": []
    },
    {
      "cell_type": "code",
      "source": [
        "np.expand_dims(arr , axis=0)"
      ],
      "metadata": {
        "colab": {
          "base_uri": "https://localhost:8080/"
        },
        "id": "ruBCpiyqiru7",
        "outputId": "b2f972b6-3947-4214-b92f-c6bf59adfca0"
      },
      "execution_count": 33,
      "outputs": [
        {
          "output_type": "execute_result",
          "data": {
            "text/plain": [
              "array([[[ 1,  2,  3,  4],\n",
              "        [ 5,  6,  7,  8],\n",
              "        [ 9, 10, 11, 12]]])"
            ]
          },
          "metadata": {},
          "execution_count": 33
        }
      ]
    },
    {
      "cell_type": "markdown",
      "source": [
        "# 10. How to transpose the following array in NumPy?\n",
        "[[1, 2, 3, 4]\n",
        "[5, 6, 7, 8],\n",
        "[9, 10, 11, 12]]"
      ],
      "metadata": {
        "id": "ahucqfjijC19"
      }
    },
    {
      "cell_type": "code",
      "source": [
        "arr = np.array([[1, 2, 3, 4] ,[5, 6, 7, 8], [9, 10, 11, 12]])"
      ],
      "metadata": {
        "id": "iK02SinVi6Pz"
      },
      "execution_count": 34,
      "outputs": []
    },
    {
      "cell_type": "code",
      "source": [
        "arr"
      ],
      "metadata": {
        "colab": {
          "base_uri": "https://localhost:8080/"
        },
        "id": "gJGgAAfOjL9s",
        "outputId": "5d45990c-9fe7-43d1-f0e1-55f149c5f603"
      },
      "execution_count": 35,
      "outputs": [
        {
          "output_type": "execute_result",
          "data": {
            "text/plain": [
              "array([[ 1,  2,  3,  4],\n",
              "       [ 5,  6,  7,  8],\n",
              "       [ 9, 10, 11, 12]])"
            ]
          },
          "metadata": {},
          "execution_count": 35
        }
      ]
    },
    {
      "cell_type": "code",
      "source": [
        "arr.T"
      ],
      "metadata": {
        "colab": {
          "base_uri": "https://localhost:8080/"
        },
        "id": "JWbQ79pJjN36",
        "outputId": "ecd7d809-dbd2-43ae-9db6-83cd38408acd"
      },
      "execution_count": 36,
      "outputs": [
        {
          "output_type": "execute_result",
          "data": {
            "text/plain": [
              "array([[ 1,  5,  9],\n",
              "       [ 2,  6, 10],\n",
              "       [ 3,  7, 11],\n",
              "       [ 4,  8, 12]])"
            ]
          },
          "metadata": {},
          "execution_count": 36
        }
      ]
    },
    {
      "cell_type": "markdown",
      "source": [
        "# 11. Consider the following matrix:\n",
        "Matrix A: [[1, 2, 3, 4] [5, 6, 7, 8],[9, 10, 11, 12]]\n",
        "\n",
        "Matrix B: [[1, 2, 3, 4] [5, 6, 7, 8],[9, 10, 11, 12]]\n",
        "\n",
        "Perform the following operation using Python\n",
        "\n",
        "\n",
        "1. Index wise multiplication\n",
        "2. Matrix multiplication  \n",
        "3. Add both the matrics  \n",
        "4. Subtract matrix B from A\n",
        "5. Divide Matrix B by A  \n",
        "\n"
      ],
      "metadata": {
        "id": "zR8GPLLgjWUP"
      }
    },
    {
      "cell_type": "code",
      "source": [
        "arr1 = np.array([[1, 2, 3, 4] ,[5, 6, 7, 8],[9, 10, 11, 12]])\n",
        "arr2 = np.array([[1, 2, 3, 4], [5, 6, 7, 8],[9, 10, 11, 12]])"
      ],
      "metadata": {
        "id": "mj8KmByIjQHx"
      },
      "execution_count": 37,
      "outputs": []
    },
    {
      "cell_type": "code",
      "source": [
        "# Indexwise multuplication\n",
        "arr1 + arr2"
      ],
      "metadata": {
        "colab": {
          "base_uri": "https://localhost:8080/"
        },
        "id": "VzJOCq9Ykl1O",
        "outputId": "b1436ece-3a9e-4c51-edc2-ad53eac40c3d"
      },
      "execution_count": 38,
      "outputs": [
        {
          "output_type": "execute_result",
          "data": {
            "text/plain": [
              "array([[ 2,  4,  6,  8],\n",
              "       [10, 12, 14, 16],\n",
              "       [18, 20, 22, 24]])"
            ]
          },
          "metadata": {},
          "execution_count": 38
        }
      ]
    },
    {
      "cell_type": "code",
      "source": [
        "# Matrix multiplication\n",
        "arr1 @ arr2.T"
      ],
      "metadata": {
        "colab": {
          "base_uri": "https://localhost:8080/"
        },
        "id": "NGxRVh1Nks6M",
        "outputId": "d7c5e136-83c5-4c79-b9ad-cd463b9e6a46"
      },
      "execution_count": 41,
      "outputs": [
        {
          "output_type": "execute_result",
          "data": {
            "text/plain": [
              "array([[ 30,  70, 110],\n",
              "       [ 70, 174, 278],\n",
              "       [110, 278, 446]])"
            ]
          },
          "metadata": {},
          "execution_count": 41
        }
      ]
    },
    {
      "cell_type": "code",
      "source": [
        "# Add both the matrics\n",
        "np.add(arr1,arr2)"
      ],
      "metadata": {
        "colab": {
          "base_uri": "https://localhost:8080/"
        },
        "id": "KoqVa6zbkz-Y",
        "outputId": "103e9bf1-f6f4-4499-8a34-42a8c6636447"
      },
      "execution_count": 42,
      "outputs": [
        {
          "output_type": "execute_result",
          "data": {
            "text/plain": [
              "array([[ 2,  4,  6,  8],\n",
              "       [10, 12, 14, 16],\n",
              "       [18, 20, 22, 24]])"
            ]
          },
          "metadata": {},
          "execution_count": 42
        }
      ]
    },
    {
      "cell_type": "code",
      "source": [
        "# Subtract matrix B from A\n",
        "arr2 - arr1"
      ],
      "metadata": {
        "colab": {
          "base_uri": "https://localhost:8080/"
        },
        "id": "jkZNbe-9lz37",
        "outputId": "27db65f5-579e-489d-bbcf-7b9413411c02"
      },
      "execution_count": 43,
      "outputs": [
        {
          "output_type": "execute_result",
          "data": {
            "text/plain": [
              "array([[0, 0, 0, 0],\n",
              "       [0, 0, 0, 0],\n",
              "       [0, 0, 0, 0]])"
            ]
          },
          "metadata": {},
          "execution_count": 43
        }
      ]
    },
    {
      "cell_type": "code",
      "source": [
        "# Divide Matrix B by A\n",
        "arr2 / arr1"
      ],
      "metadata": {
        "colab": {
          "base_uri": "https://localhost:8080/"
        },
        "id": "Kd4VLUD3l8v6",
        "outputId": "58cb6bda-c3b3-4fe7-861d-dad866847c49"
      },
      "execution_count": 44,
      "outputs": [
        {
          "output_type": "execute_result",
          "data": {
            "text/plain": [
              "array([[1., 1., 1., 1.],\n",
              "       [1., 1., 1., 1.],\n",
              "       [1., 1., 1., 1.]])"
            ]
          },
          "metadata": {},
          "execution_count": 44
        }
      ]
    },
    {
      "cell_type": "markdown",
      "source": [
        "# 12. Which function in Numpy can be used to swap the byte order of an array?\n",
        "\n",
        "Ans : The byteswap() function in numpy is used to swap the byte order of an array."
      ],
      "metadata": {
        "id": "O8cBL-l0mO-7"
      }
    },
    {
      "cell_type": "markdown",
      "source": [
        "# 13. What is the significance of the np.linalg.inv function?\n",
        "\n",
        "Ans : The np.linalg.inv fucntion in Numpy used to compute the inverse of a given square matrix.\n",
        "\n",
        "The significance of this function is the ability to solve linear equations , matrix division, etc."
      ],
      "metadata": {
        "id": "SMDlaI6qnGbK"
      }
    },
    {
      "cell_type": "markdown",
      "source": [
        "# 14. What does the np.reshape function do, and how is it used?\n",
        "\n",
        "Ans :  \n",
        "\n",
        "The np.reshape() function is used to change the shape of an array without changing its data.\n",
        "\n",
        "It is used to change the shape but the shape should be multiple of size.\n"
      ],
      "metadata": {
        "id": "tkJSbFthoMBZ"
      }
    },
    {
      "cell_type": "code",
      "source": [
        "arr = np.array([[1, 2, 3, 4] ,[5, 6, 7, 8],[9, 10, 11, 12]])"
      ],
      "metadata": {
        "id": "Mdn3hPiImDwN"
      },
      "execution_count": 45,
      "outputs": []
    },
    {
      "cell_type": "code",
      "source": [
        "arr"
      ],
      "metadata": {
        "colab": {
          "base_uri": "https://localhost:8080/"
        },
        "id": "26rgIa4mo_sL",
        "outputId": "d7c9f230-af4f-42e5-faff-ea0113c70517"
      },
      "execution_count": 46,
      "outputs": [
        {
          "output_type": "execute_result",
          "data": {
            "text/plain": [
              "array([[ 1,  2,  3,  4],\n",
              "       [ 5,  6,  7,  8],\n",
              "       [ 9, 10, 11, 12]])"
            ]
          },
          "metadata": {},
          "execution_count": 46
        }
      ]
    },
    {
      "cell_type": "code",
      "source": [
        "arr.size"
      ],
      "metadata": {
        "colab": {
          "base_uri": "https://localhost:8080/"
        },
        "id": "luIHrh9MpA7p",
        "outputId": "309a4edb-e47f-41cd-e2a1-9c56e4f909e3"
      },
      "execution_count": 47,
      "outputs": [
        {
          "output_type": "execute_result",
          "data": {
            "text/plain": [
              "12"
            ]
          },
          "metadata": {},
          "execution_count": 47
        }
      ]
    },
    {
      "cell_type": "code",
      "source": [
        "arr.reshape((6,2))"
      ],
      "metadata": {
        "colab": {
          "base_uri": "https://localhost:8080/"
        },
        "id": "SjWC_Qn-pC-p",
        "outputId": "b8371d96-8d68-41a6-92d3-5e7432b87880"
      },
      "execution_count": 48,
      "outputs": [
        {
          "output_type": "execute_result",
          "data": {
            "text/plain": [
              "array([[ 1,  2],\n",
              "       [ 3,  4],\n",
              "       [ 5,  6],\n",
              "       [ 7,  8],\n",
              "       [ 9, 10],\n",
              "       [11, 12]])"
            ]
          },
          "metadata": {},
          "execution_count": 48
        }
      ]
    },
    {
      "cell_type": "markdown",
      "source": [
        "# 15. What is broadcasting in Numpy?\n",
        "\n",
        "Ans : Broadcasting in Numpy is the ability to perform arithmetic operation on arrays of different shapes."
      ],
      "metadata": {
        "id": "tP2S7qRspM3s"
      }
    },
    {
      "cell_type": "code",
      "source": [
        "# Example\n",
        "arr = np.array([[1,2,3],[4,5,6]])"
      ],
      "metadata": {
        "id": "T2gM2BCEpHj_"
      },
      "execution_count": 50,
      "outputs": []
    },
    {
      "cell_type": "code",
      "source": [
        "arr + [1,2,3]"
      ],
      "metadata": {
        "colab": {
          "base_uri": "https://localhost:8080/"
        },
        "id": "2Lf2jDaTqA1U",
        "outputId": "ec33b16a-2892-48a0-b652-a695015b030a"
      },
      "execution_count": 51,
      "outputs": [
        {
          "output_type": "execute_result",
          "data": {
            "text/plain": [
              "array([[2, 4, 6],\n",
              "       [5, 7, 9]])"
            ]
          },
          "metadata": {},
          "execution_count": 51
        }
      ]
    },
    {
      "cell_type": "code",
      "source": [],
      "metadata": {
        "id": "xx2Ypq6kqGT-"
      },
      "execution_count": null,
      "outputs": []
    }
  ]
}